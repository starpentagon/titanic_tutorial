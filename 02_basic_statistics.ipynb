{
 "cells": [
  {
   "cell_type": "markdown",
   "metadata": {},
   "source": [
    "# 基礎統計（探索的データ解析）\n",
    "* 学習／テストデータのヒストグラムを確認"
   ]
  },
  {
   "cell_type": "code",
   "execution_count": 1,
   "metadata": {},
   "outputs": [],
   "source": [
    "import numpy as np\n",
    "import pandas as pd\n",
    "\n",
    "%matplotlib inline\n",
    "import matplotlib.pyplot as plt\n",
    "\n",
    "from titanic_package.titanic_plot import plot_train_test_histogram"
   ]
  },
  {
   "cell_type": "code",
   "execution_count": 2,
   "metadata": {},
   "outputs": [],
   "source": [
    "# Data load\n",
    "titanic_train = pd.read_csv('./data/train.csv')\n",
    "titanic_test = pd.read_csv('./data/test.csv')"
   ]
  },
  {
   "cell_type": "code",
   "execution_count": 3,
   "metadata": {},
   "outputs": [],
   "source": [
    "# 学習/評価データをマージ\n",
    "titanic_train['Type'] = 'train'\n",
    "titanic_test['Type'] = 'test'\n",
    "titanic_test['Survived'] = np.NaN\n",
    "\n",
    "titanic_all = pd.concat([titanic_train, titanic_test], ignore_index=True, sort=True)\n",
    "train_flg = titanic_all['Type'] == 'train'\n",
    "test_flg = titanic_all['Type'] == 'test'"
   ]
  },
  {
   "cell_type": "code",
   "execution_count": 4,
   "metadata": {},
   "outputs": [],
   "source": [
    "# 集計用の列を追加\n",
    "titanic_all['Count'] = 1\n",
    "\n",
    "titanic_all['Ratio'] = 0\n",
    "titanic_all.loc[train_flg, 'Ratio'] = 1 / sum(train_flg)\n",
    "titanic_all.loc[test_flg, 'Ratio'] = 1 / sum(test_flg)"
   ]
  },
  {
   "cell_type": "code",
   "execution_count": 5,
   "metadata": {},
   "outputs": [],
   "source": [
    "# Pclass（1-3）を1st-3rdに変換\n",
    "pclass_name_list = ['', '1st', '2nd', '3rd']\n",
    "titanic_all['Pclass_name'] = titanic_all['Pclass'].apply(lambda x : pclass_name_list[x])"
   ]
  },
  {
   "cell_type": "markdown",
   "metadata": {},
   "source": [
    "# 生存フラグ(Surivived)\n",
    "* 生存者数: 342人(38%)\n",
    "* 死亡者数: 549人(62%)\n",
    "  * およそ1/3の人が生存"
   ]
  },
  {
   "cell_type": "code",
   "execution_count": 6,
   "metadata": {},
   "outputs": [
    {
     "name": "stdout",
     "output_type": "stream",
     "text": [
      "            train  test\n",
      "count  891.000000   0.0\n",
      "mean     0.383838   NaN\n",
      "std      0.486592   NaN\n",
      "min      0.000000   NaN\n",
      "25%      0.000000   NaN\n",
      "50%      0.000000   NaN\n",
      "75%      1.000000   NaN\n",
      "max      1.000000   NaN\n",
      "\n",
      "          Count     Ratio\n",
      "Survived                 \n",
      "0.0         549  0.616162\n",
      "1.0         342  0.383838\n"
     ]
    }
   ],
   "source": [
    "feature = 'Survived'\n",
    "\n",
    "stat_df = pd.DataFrame(\n",
    "    {'train': titanic_all[train_flg][feature].describe(),\n",
    "     'test': titanic_all[test_flg][feature].describe()\n",
    "    })\n",
    "print(stat_df)\n",
    "print()\n",
    "print(titanic_all.groupby(feature).sum()[['Count', 'Ratio']])"
   ]
  },
  {
   "cell_type": "code",
   "execution_count": 7,
   "metadata": {},
   "outputs": [
    {
     "data": {
      "image/png": "[encoded data removed]",
      "text/plain": [
       "<Figure size 432x288 with 1 Axes>"
      ]
     },
     "metadata": {
      "needs_background": "light"
     },
     "output_type": "display_data"
    }
   ],
   "source": [
    "plot_train_test_histogram(feature, titanic_all)"
   ]
  },
  {
   "cell_type": "markdown",
   "metadata": {},
   "source": [
    "# Passenger Class\n",
    "* おおよそ1st : 2nd : 3rd = 1 : 1 : 2\n",
    "* 評価データは学習データと比べ1st, 2ndが1-2%多く、3rdが3%少ない"
   ]
  },
  {
   "cell_type": "code",
   "execution_count": 8,
   "metadata": {},
   "outputs": [
    {
     "name": "stdout",
     "output_type": "stream",
     "text": [
      "       train test\n",
      "count    891  418\n",
      "unique     3    3\n",
      "top      3rd  3rd\n",
      "freq     491  218\n"
     ]
    }
   ],
   "source": [
    "feature = 'Pclass_name'\n",
    "\n",
    "stat_df = pd.DataFrame(\n",
    "    {'train': titanic_all[train_flg][feature].describe(),\n",
    "     'test': titanic_all[test_flg][feature].describe()\n",
    "    })\n",
    "print(stat_df)"
   ]
  },
  {
   "cell_type": "code",
   "execution_count": 9,
   "metadata": {},
   "outputs": [
    {
     "name": "stdout",
     "output_type": "stream",
     "text": [
      "                   Count     Ratio\n",
      "Type  Pclass_name                 \n",
      "test  1st            107  0.255981\n",
      "      2nd             93  0.222488\n",
      "      3rd            218  0.521531\n",
      "train 1st            216  0.242424\n",
      "      2nd            184  0.206510\n",
      "      3rd            491  0.551066\n"
     ]
    },
    {
     "data": {
      "image/png": "[encoded data removed]",
      "text/plain": [
       "<Figure size 432x288 with 1 Axes>"
      ]
     },
     "metadata": {
      "needs_background": "light"
     },
     "output_type": "display_data"
    }
   ],
   "source": [
    "plot_train_test_histogram(feature, titanic_all)\n",
    "print(titanic_all.groupby(['Type', feature]).sum()[['Count', 'Ratio']])"
   ]
  },
  {
   "cell_type": "markdown",
   "metadata": {},
   "source": [
    "# 名前(Name)\n",
    "* すべて異なる値"
   ]
  },
  {
   "cell_type": "code",
   "execution_count": 10,
   "metadata": {},
   "outputs": [
    {
     "name": "stdout",
     "output_type": "stream",
     "text": [
      "                                        train  \\\n",
      "count                                     891   \n",
      "unique                                    891   \n",
      "top     Hocking, Mrs. Elizabeth (Eliza Needs)   \n",
      "freq                                        1   \n",
      "\n",
      "                                                   test  \n",
      "count                                               418  \n",
      "unique                                              418  \n",
      "top     Bucknell, Mrs. William Robert (Emma Eliza Ward)  \n",
      "freq                                                  1  \n"
     ]
    }
   ],
   "source": [
    "feature = 'Name'\n",
    "\n",
    "stat_df = pd.DataFrame(\n",
    "    {'train': titanic_all[train_flg][feature].describe(),\n",
    "     'test': titanic_all[test_flg][feature].describe()\n",
    "    })\n",
    "print(stat_df)"
   ]
  },
  {
   "cell_type": "markdown",
   "metadata": {},
   "source": [
    "# 性別\n",
    "* おおよそ男性 : 女性 = 2 : 1\n",
    "* 評価データは学習データと比べ女性が1%多い"
   ]
  },
  {
   "cell_type": "code",
   "execution_count": 11,
   "metadata": {},
   "outputs": [
    {
     "name": "stdout",
     "output_type": "stream",
     "text": [
      "       train  test\n",
      "count    891   418\n",
      "unique     2     2\n",
      "top     male  male\n",
      "freq     577   266\n"
     ]
    }
   ],
   "source": [
    "feature = 'Sex'\n",
    "\n",
    "stat_df = pd.DataFrame(\n",
    "    {'train': titanic_all[train_flg][feature].describe(),\n",
    "     'test': titanic_all[test_flg][feature].describe()\n",
    "    })\n",
    "print(stat_df)"
   ]
  },
  {
   "cell_type": "code",
   "execution_count": 12,
   "metadata": {},
   "outputs": [
    {
     "name": "stdout",
     "output_type": "stream",
     "text": [
      "              Count     Ratio\n",
      "Type  Sex                    \n",
      "test  female    152  0.363636\n",
      "      male      266  0.636364\n",
      "train female    314  0.352413\n",
      "      male      577  0.647587\n"
     ]
    },
    {
     "data": {
      "image/png": "[encoded data removed]",
      "text/plain": [
       "<Figure size 432x288 with 1 Axes>"
      ]
     },
     "metadata": {
      "needs_background": "light"
     },
     "output_type": "display_data"
    }
   ],
   "source": [
    "plot_train_test_histogram(feature, titanic_all)\n",
    "print(titanic_all.groupby(['Type', feature]).sum()[['Count', 'Ratio']])"
   ]
  },
  {
   "cell_type": "markdown",
   "metadata": {},
   "source": [
    "# 年齢(Age)\n",
    "* 全体に占める割合では15-40才が多い\n",
    "* 65才以上は少ないのでまとめた方が良い\n",
    "* 評価データは学習データと比べ5才未満、15-20才, 30-35才が2%程度少ない\n",
    "* 逆に20-30才は評価データは学習データと比べ2-3%程度多い"
   ]
  },
  {
   "cell_type": "code",
   "execution_count": 13,
   "metadata": {},
   "outputs": [
    {
     "name": "stdout",
     "output_type": "stream",
     "text": [
      "            train        test\n",
      "count  714.000000  332.000000\n",
      "mean    29.699118   30.272590\n",
      "std     14.526497   14.181209\n",
      "min      0.420000    0.170000\n",
      "25%     20.125000   21.000000\n",
      "50%     28.000000   27.000000\n",
      "75%     38.000000   39.000000\n",
      "max     80.000000   76.000000\n"
     ]
    }
   ],
   "source": [
    "feature = 'Age'\n",
    "\n",
    "stat_df = pd.DataFrame(\n",
    "    {'train': titanic_all[train_flg][feature].describe(),\n",
    "     'test': titanic_all[test_flg][feature].describe()\n",
    "    })\n",
    "print(stat_df)"
   ]
  },
  {
   "cell_type": "code",
   "execution_count": 14,
   "metadata": {},
   "outputs": [
    {
     "data": {
      "image/png": "[encoded data removed]",
      "text/plain": [
       "<Figure size 432x288 with 1 Axes>"
      ]
     },
     "metadata": {
      "needs_background": "light"
     },
     "output_type": "display_data"
    }
   ],
   "source": [
    "# 5才刻みでplot\n",
    "age_ctgr_list = np.linspace(0, 85, 18).tolist()\n",
    "plot_train_test_histogram(feature, titanic_all, age_ctgr_list)"
   ]
  },
  {
   "cell_type": "markdown",
   "metadata": {},
   "source": [
    "# 一緒に乗船した兄弟、配偶者の数(SibSp)\n",
    "* 9割以上が0か1\n",
    "  * 2以上はまとめた方がよい\n",
    "* 評価データは学習データと比べSibSp=1が3%ほど多く、SibSp>=3が少ない"
   ]
  },
  {
   "cell_type": "code",
   "execution_count": 15,
   "metadata": {},
   "outputs": [
    {
     "name": "stdout",
     "output_type": "stream",
     "text": [
      "            train        test\n",
      "count  891.000000  418.000000\n",
      "mean     0.523008    0.447368\n",
      "std      1.102743    0.896760\n",
      "min      0.000000    0.000000\n",
      "25%      0.000000    0.000000\n",
      "50%      0.000000    0.000000\n",
      "75%      1.000000    1.000000\n",
      "max      8.000000    8.000000\n"
     ]
    }
   ],
   "source": [
    "feature = 'SibSp'\n",
    "\n",
    "stat_df = pd.DataFrame(\n",
    "    {'train': titanic_all[train_flg][feature].describe(),\n",
    "     'test': titanic_all[test_flg][feature].describe()\n",
    "    })\n",
    "print(stat_df)"
   ]
  },
  {
   "cell_type": "code",
   "execution_count": 16,
   "metadata": {},
   "outputs": [
    {
     "name": "stdout",
     "output_type": "stream",
     "text": [
      "             Count     Ratio\n",
      "Type  SibSp                 \n",
      "test  0        283  0.677033\n",
      "      1        110  0.263158\n",
      "      2         14  0.033493\n",
      "      3          4  0.009569\n",
      "      4          4  0.009569\n",
      "      5          1  0.002392\n",
      "      8          2  0.004785\n",
      "train 0        608  0.682379\n",
      "      1        209  0.234568\n",
      "      2         28  0.031425\n",
      "      3         16  0.017957\n",
      "      4         18  0.020202\n",
      "      5          5  0.005612\n",
      "      8          7  0.007856\n"
     ]
    },
    {
     "data": {
      "image/png": "[encoded data removed]",
      "text/plain": [
       "<Figure size 432x288 with 1 Axes>"
      ]
     },
     "metadata": {
      "needs_background": "light"
     },
     "output_type": "display_data"
    }
   ],
   "source": [
    "plot_train_test_histogram(feature, titanic_all)\n",
    "print(titanic_all.groupby(['Type', feature]).sum()[['Count', 'Ratio']])"
   ]
  },
  {
   "cell_type": "markdown",
   "metadata": {},
   "source": [
    "# 一緒に乗船した親子の数(Parch)\n",
    "* 95%以上が0-2\n",
    "* 学習データの最大値は6だが、評価データでの最大値は9\n",
    "  * 3以上はまとめた方がよい"
   ]
  },
  {
   "cell_type": "code",
   "execution_count": 17,
   "metadata": {},
   "outputs": [
    {
     "name": "stdout",
     "output_type": "stream",
     "text": [
      "            train        test\n",
      "count  891.000000  418.000000\n",
      "mean     0.381594    0.392344\n",
      "std      0.806057    0.981429\n",
      "min      0.000000    0.000000\n",
      "25%      0.000000    0.000000\n",
      "50%      0.000000    0.000000\n",
      "75%      0.000000    0.000000\n",
      "max      6.000000    9.000000\n"
     ]
    }
   ],
   "source": [
    "feature = 'Parch'\n",
    "\n",
    "stat_df = pd.DataFrame(\n",
    "    {'train': titanic_all[train_flg][feature].describe(),\n",
    "     'test': titanic_all[test_flg][feature].describe()\n",
    "    })\n",
    "print(stat_df)"
   ]
  },
  {
   "cell_type": "code",
   "execution_count": 18,
   "metadata": {},
   "outputs": [
    {
     "name": "stdout",
     "output_type": "stream",
     "text": [
      "             Count     Ratio\n",
      "Type  Parch                 \n",
      "test  0        324  0.775120\n",
      "      1         52  0.124402\n",
      "      2         33  0.078947\n",
      "      3          3  0.007177\n",
      "      4          2  0.004785\n",
      "      5          1  0.002392\n",
      "      6          1  0.002392\n",
      "      9          2  0.004785\n",
      "train 0        678  0.760943\n",
      "      1        118  0.132435\n",
      "      2         80  0.089787\n",
      "      3          5  0.005612\n",
      "      4          4  0.004489\n",
      "      5          5  0.005612\n",
      "      6          1  0.001122\n"
     ]
    },
    {
     "data": {
      "image/png": "[encoded data removed]",
      "text/plain": [
       "<Figure size 432x288 with 1 Axes>"
      ]
     },
     "metadata": {
      "needs_background": "light"
     },
     "output_type": "display_data"
    }
   ],
   "source": [
    "plot_train_test_histogram(feature, titanic_all)\n",
    "print(titanic_all.groupby(['Type', feature]).sum()[['Count', 'Ratio']])"
   ]
  },
  {
   "cell_type": "markdown",
   "metadata": {},
   "source": [
    "# Ticket\n",
    "* 大多数が異なる値"
   ]
  },
  {
   "cell_type": "code",
   "execution_count": 19,
   "metadata": {},
   "outputs": [
    {
     "name": "stdout",
     "output_type": "stream",
     "text": [
      "           train      test\n",
      "count        891       418\n",
      "unique       681       363\n",
      "top     CA. 2343  PC 17608\n",
      "freq           7         5\n"
     ]
    }
   ],
   "source": [
    "feature = 'Ticket'\n",
    "\n",
    "stat_df = pd.DataFrame(\n",
    "    {'train': titanic_all[train_flg][feature].describe(),\n",
    "     'test': titanic_all[test_flg][feature].describe()\n",
    "    })\n",
    "print(stat_df)"
   ]
  },
  {
   "cell_type": "markdown",
   "metadata": {},
   "source": [
    "# 運賃(Fare)\n",
    "* 裾のながい分布\n",
    "  * 回帰系のアルゴリズムを使う場合は外れ値の処理が必要"
   ]
  },
  {
   "cell_type": "code",
   "execution_count": 20,
   "metadata": {},
   "outputs": [
    {
     "name": "stdout",
     "output_type": "stream",
     "text": [
      "            train        test\n",
      "count  891.000000  417.000000\n",
      "mean    32.204208   35.627188\n",
      "std     49.693429   55.907576\n",
      "min      0.000000    0.000000\n",
      "25%      7.910400    7.895800\n",
      "50%     14.454200   14.454200\n",
      "75%     31.000000   31.500000\n",
      "max    512.329200  512.329200\n"
     ]
    }
   ],
   "source": [
    "feature = 'Fare'\n",
    "\n",
    "stat_df = pd.DataFrame(\n",
    "    {'train': titanic_all[train_flg][feature].describe(),\n",
    "     'test': titanic_all[test_flg][feature].describe()\n",
    "    })\n",
    "print(stat_df)"
   ]
  },
  {
   "cell_type": "code",
   "execution_count": 21,
   "metadata": {},
   "outputs": [
    {
     "data": {
      "image/png": "[encoded data removed]",
      "text/plain": [
       "<Figure size 432x288 with 1 Axes>"
      ]
     },
     "metadata": {
      "needs_background": "light"
     },
     "output_type": "display_data"
    }
   ],
   "source": [
    "# 20刻みでplot\n",
    "plot_train_test_histogram(feature, titanic_all, [-1, 20, 40, 60, 80, 100, 120, 140, 160, 180, 200, 999])"
   ]
  },
  {
   "cell_type": "markdown",
   "metadata": {},
   "source": [
    "# 客室番号(Cabin)\n",
    "* 大多数が異なる値"
   ]
  },
  {
   "cell_type": "code",
   "execution_count": 22,
   "metadata": {},
   "outputs": [
    {
     "name": "stdout",
     "output_type": "stream",
     "text": [
      "       train             test\n",
      "count    204               91\n",
      "unique   147               76\n",
      "top       G6  B57 B59 B63 B66\n",
      "freq       4                3\n"
     ]
    }
   ],
   "source": [
    "feature = 'Cabin'\n",
    "\n",
    "stat_df = pd.DataFrame(\n",
    "    {'train': titanic_all[train_flg][feature].describe(),\n",
    "     'test': titanic_all[test_flg][feature].describe()\n",
    "    })\n",
    "print(stat_df)"
   ]
  },
  {
   "cell_type": "markdown",
   "metadata": {},
   "source": [
    "# 乗船港(Embarked)\n",
    "* Sが最も多く7割近くを占める\n",
    "* 評価データは学習データと比べSが8%ほど少なく、C, Qが4%程度多い"
   ]
  },
  {
   "cell_type": "code",
   "execution_count": 23,
   "metadata": {},
   "outputs": [
    {
     "name": "stdout",
     "output_type": "stream",
     "text": [
      "       train test\n",
      "count    889  418\n",
      "unique     3    3\n",
      "top        S    S\n",
      "freq     644  270\n"
     ]
    }
   ],
   "source": [
    "feature = 'Embarked'\n",
    "\n",
    "stat_df = pd.DataFrame(\n",
    "    {'train': titanic_all[train_flg][feature].describe(),\n",
    "     'test': titanic_all[test_flg][feature].describe()\n",
    "    })\n",
    "print(stat_df)"
   ]
  },
  {
   "cell_type": "code",
   "execution_count": 24,
   "metadata": {},
   "outputs": [
    {
     "name": "stdout",
     "output_type": "stream",
     "text": [
      "                Count     Ratio\n",
      "Type  Embarked                 \n",
      "test  C           102  0.244019\n",
      "      Q            46  0.110048\n",
      "      S           270  0.645933\n",
      "train C           168  0.188552\n",
      "      Q            77  0.086420\n",
      "      S           644  0.722783\n"
     ]
    },
    {
     "data": {
      "image/png": "[encoded data removed]",
      "text/plain": [
       "<Figure size 432x288 with 1 Axes>"
      ]
     },
     "metadata": {
      "needs_background": "light"
     },
     "output_type": "display_data"
    }
   ],
   "source": [
    "plot_train_test_histogram(feature, titanic_all)\n",
    "print(titanic_all.groupby(['Type', feature]).sum()[['Count', 'Ratio']])"
   ]
  },
  {
   "cell_type": "code",
   "execution_count": null,
   "metadata": {},
   "outputs": [],
   "source": []
  }
 ],
 "metadata": {
  "kernelspec": {
   "display_name": "titanic",
   "language": "python",
   "name": "titanic"
  },
  "language_info": {
   "codemirror_mode": {
    "name": "ipython",
    "version": 3
   },
   "file_extension": ".py",
   "mimetype": "text/x-python",
   "name": "python",
   "nbconvert_exporter": "python",
   "pygments_lexer": "ipython3",
   "version": "3.7.5"
  }
 },
 "nbformat": 4,
 "nbformat_minor": 2
}
