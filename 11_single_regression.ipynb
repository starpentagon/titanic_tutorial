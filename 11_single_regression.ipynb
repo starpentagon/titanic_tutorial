{
 "cells": [
  {
   "cell_type": "markdown",
   "metadata": {},
   "source": [
    "# 単変量回帰\n",
    "## 欠損値補完\n",
    "* Fare: 欠損レコードの「Pclass=3」「Embarked=S」の平均運賃(=14.43)で補完\n",
    "* Embarked: 「S」で補完\n",
    "\n",
    "## 外れ値処理\n",
    "* SibSp: 4以上は4に丸める\n",
    "* Parch: 3以上は3に丸める\n",
    "* Fare: 80以上(概ね上位10%点)は80に丸める\n",
    "\n",
    "## 特徴量\n",
    "* Pclass: そのまま利用\n",
    "* Sex: ダミー変数化\n",
    "* Age: 「5才以下」「5〜15才(2nd以上)」「5〜10才（3rd）」「10〜15才（3rd）」「15〜60才」「60才以上」「欠損値」「推定値」\n",
    "* SibSp: 「SibSp(外れ値処理済)」「SibSp=0フラグ」\n",
    "* Parch: 「Parch(外れ値処理済)」「Parch=0フラグ」\n",
    "* Fare: 外れ値処理をした値を利用\n",
    "* Embarked: ダミー変数化"
   ]
  },
  {
   "cell_type": "code",
   "execution_count": 1,
   "metadata": {},
   "outputs": [],
   "source": [
    "import numpy as np\n",
    "import pandas as pd\n",
    "\n",
    "from sklearn.linear_model import LogisticRegression\n",
    "from sklearn.metrics import accuracy_score\n",
    "\n",
    "from titanic_package.titanic_preprocess import get_binned_data\n",
    "from titanic_package.titanic_preprocess import get_age_ctgr\n",
    "\n",
    "from titanic_package.titanic_plot import plot_single_regression_result\n",
    "from titanic_package.titanic_plot import plot_model_coefficient\n",
    "\n",
    "%matplotlib inline\n",
    "import matplotlib.pyplot as plt"
   ]
  },
  {
   "cell_type": "code",
   "execution_count": 2,
   "metadata": {},
   "outputs": [],
   "source": [
    "# Data load\n",
    "titanic_train = pd.read_csv('./data/train.csv')\n",
    "titanic_test = pd.read_csv('./data/test.csv')"
   ]
  },
  {
   "cell_type": "code",
   "execution_count": 3,
   "metadata": {},
   "outputs": [],
   "source": [
    "# 学習/評価データをマージ\n",
    "titanic_train['Type'] = 'train'\n",
    "titanic_test['Type'] = 'test'\n",
    "titanic_test['Survived'] = np.NaN\n",
    "\n",
    "titanic_all = pd.concat([titanic_train, titanic_test], ignore_index=True, sort=True)\n",
    "train_flg = titanic_all['Type'] == 'train'\n",
    "test_flg = titanic_all['Type'] == 'test'\n",
    "\n",
    "y_train = titanic_all[train_flg]['Survived']"
   ]
  },
  {
   "cell_type": "code",
   "execution_count": 4,
   "metadata": {},
   "outputs": [],
   "source": [
    "# 欠損値補完\n",
    "# Fare\n",
    "## 運賃は「チケットクラス」「乗船港」で決まると考える\n",
    "## 欠損レコードは「Pclass=3」「Embarked=S」なのでその平均運賃で補完する\n",
    "f = (titanic_all['Pclass'] == 3) & (titanic_all['Embarked'] == 'S')\n",
    "fare_mean = np.mean(titanic_all[f]['Fare'].dropna())\n",
    "\n",
    "titanic_all['Fare'] = titanic_all['Fare'].fillna(fare_mean)\n",
    "\n",
    "# Embarked\n",
    "## 「S」で補完\n",
    "titanic_all['Embarked'] = titanic_all['Embarked'].fillna('S')"
   ]
  },
  {
   "cell_type": "code",
   "execution_count": 5,
   "metadata": {},
   "outputs": [],
   "source": [
    "# 外れ値処理\n",
    "titanic_all['SibSp_rounded'] = titanic_all['SibSp'].apply(lambda x: min(4, x))\n",
    "titanic_all['Parch_rounded'] = titanic_all['Parch'].apply(lambda x: min(3, x))\n",
    "titanic_all['Fare_rounded'] = titanic_all['Fare'].apply(lambda x: min(80, x))"
   ]
  },
  {
   "cell_type": "code",
   "execution_count": 6,
   "metadata": {},
   "outputs": [],
   "source": [
    "# 年齢カテゴリを作成\n",
    "## 「5才以下」「5〜15才(2nd以上)」「5〜10才（3rd）」「10〜15才（3rd）」「15〜60才」「60才以上」「欠損値」「推定値」\n",
    "age_ctgr_list = []\n",
    "\n",
    "for index, row in titanic_all.iterrows():\n",
    "    age_ctgr = get_age_ctgr(row['Age'], row['Pclass'])\n",
    "    age_ctgr_list.append(age_ctgr)\n",
    "\n",
    "titanic_all['AgeCtgr'] = age_ctgr_list"
   ]
  },
  {
   "cell_type": "code",
   "execution_count": 7,
   "metadata": {},
   "outputs": [],
   "source": [
    "# SibSp=0フラグを作成\n",
    "titanic_all['SibSp=0'] = titanic_all['SibSp'].apply(lambda x: 1 if x == 0 else 0)"
   ]
  },
  {
   "cell_type": "code",
   "execution_count": 8,
   "metadata": {},
   "outputs": [],
   "source": [
    "# Parch=0フラグを作成\n",
    "titanic_all['Parch=0'] = titanic_all['Parch'].apply(lambda x: 1 if x == 0 else 0)"
   ]
  },
  {
   "cell_type": "code",
   "execution_count": 9,
   "metadata": {},
   "outputs": [],
   "source": [
    "# ダミー変数化\n",
    "X_dummy = pd.DataFrame()\n",
    "\n",
    "## 性別\n",
    "dummy_df = pd.get_dummies(titanic_all['Sex']).drop('male', axis=1)\n",
    "dummy_df.columns = ['Sex_female']\n",
    "X_dummy = pd.concat([X_dummy, dummy_df], axis=1)\n",
    "\n",
    "## 年齢カテゴリ\n",
    "dummy_df = pd.get_dummies(titanic_all['AgeCtgr']).drop('15-60', axis=1)\n",
    "dummy_df.columns = ['AgeCtgr_' + name for name in dummy_df.columns]\n",
    "X_dummy = pd.concat([X_dummy, dummy_df], axis=1)\n",
    "\n",
    "## SibSp=0, Parch=0フラグ\n",
    "X_dummy = pd.concat([X_dummy, titanic_all[['SibSp=0', 'Parch=0']]], axis=1)\n",
    "\n",
    "## 乗船港\n",
    "dummy_df = pd.get_dummies(titanic_all['Embarked']).drop('S', axis=1)\n",
    "dummy_df.columns = ['Embarked_' + name for name in dummy_df.columns]\n",
    "X_dummy = pd.concat([X_dummy, dummy_df], axis=1)"
   ]
  },
  {
   "cell_type": "code",
   "execution_count": 10,
   "metadata": {},
   "outputs": [],
   "source": [
    "# 数値データ\n",
    "numeric_columns = ['Pclass', 'SibSp_rounded', 'Parch_rounded', 'Fare_rounded']\n",
    "X_numeric = titanic_all[numeric_columns]"
   ]
  },
  {
   "cell_type": "code",
   "execution_count": 11,
   "metadata": {},
   "outputs": [],
   "source": [
    "# 学習／テスト用データに分割\n",
    "X = pd.concat([X_numeric, X_dummy], axis=1)\n",
    "\n",
    "X_train = X[train_flg]\n",
    "y_train = titanic_all[train_flg]['Survived'].astype(int)\n",
    "\n",
    "X_test = X[test_flg]"
   ]
  },
  {
   "cell_type": "markdown",
   "metadata": {},
   "source": [
    "# Passenger class\n",
    "* 1stなら生存、2nd-3rdなら死亡と予測するモデル\n",
    "* accuracy(train): 0.679\n",
    "* accuracy(test): 0.656\n",
    "  * testの方が2.3%低い"
   ]
  },
  {
   "cell_type": "code",
   "execution_count": 12,
   "metadata": {},
   "outputs": [
    {
     "data": {
      "text/plain": [
       "LogisticRegression(C=1.0, class_weight=None, dual=False, fit_intercept=True,\n",
       "                   intercept_scaling=1, l1_ratio=None, max_iter=100,\n",
       "                   multi_class='warn', n_jobs=None, penalty='none',\n",
       "                   random_state=None, solver='lbfgs', tol=0.0001, verbose=0,\n",
       "                   warm_start=False)"
      ]
     },
     "execution_count": 12,
     "metadata": {},
     "output_type": "execute_result"
    }
   ],
   "source": [
    "# ロジスティック回帰モデル\n",
    "features = ['Pclass']\n",
    "\n",
    "X_single_train = X_train[features]\n",
    "X_single_test = X_test[features]\n",
    "\n",
    "model = LogisticRegression(solver='lbfgs', penalty='none')\n",
    "model.fit(X_single_train, y_train)"
   ]
  },
  {
   "cell_type": "code",
   "execution_count": 13,
   "metadata": {},
   "outputs": [
    {
     "name": "stdout",
     "output_type": "stream",
     "text": [
      "* accuracy(train): 0.679\n"
     ]
    }
   ],
   "source": [
    "# 精度（学習データ全体）\n",
    "y_pred = model.predict(X_single_train)\n",
    "accuracy = accuracy_score(y_train, y_pred)\n",
    "\n",
    "print('* accuracy(train): {:.3f}'.format(accuracy))"
   ]
  },
  {
   "cell_type": "code",
   "execution_count": 14,
   "metadata": {},
   "outputs": [
    {
     "data": {
      "image/png": "[encoded data removed]",
      "text/plain": [
       "<Figure size 432x288 with 2 Axes>"
      ]
     },
     "metadata": {
      "needs_background": "light"
     },
     "output_type": "display_data"
    }
   ],
   "source": [
    "# 学習結果(予測確率)の確認\n",
    "plot_single_regression_result(model, features[0], X_single_train, X_train, y_train)"
   ]
  },
  {
   "cell_type": "code",
   "execution_count": 15,
   "metadata": {},
   "outputs": [
    {
     "data": {
      "text/html": [
       "<div>\n",
       "<style scoped>\n",
       "    .dataframe tbody tr th:only-of-type {\n",
       "        vertical-align: middle;\n",
       "    }\n",
       "\n",
       "    .dataframe tbody tr th {\n",
       "        vertical-align: top;\n",
       "    }\n",
       "\n",
       "    .dataframe thead tr th {\n",
       "        text-align: left;\n",
       "    }\n",
       "\n",
       "    .dataframe thead tr:last-of-type th {\n",
       "        text-align: right;\n",
       "    }\n",
       "</style>\n",
       "<table border=\"1\" class=\"dataframe\">\n",
       "  <thead>\n",
       "    <tr>\n",
       "      <th></th>\n",
       "      <th colspan=\"2\" halign=\"left\">pred</th>\n",
       "    </tr>\n",
       "    <tr>\n",
       "      <th></th>\n",
       "      <th>mean</th>\n",
       "      <th>count</th>\n",
       "    </tr>\n",
       "    <tr>\n",
       "      <th>Pclass</th>\n",
       "      <th></th>\n",
       "      <th></th>\n",
       "    </tr>\n",
       "  </thead>\n",
       "  <tbody>\n",
       "    <tr>\n",
       "      <th>1</th>\n",
       "      <td>1</td>\n",
       "      <td>216</td>\n",
       "    </tr>\n",
       "    <tr>\n",
       "      <th>2</th>\n",
       "      <td>0</td>\n",
       "      <td>184</td>\n",
       "    </tr>\n",
       "    <tr>\n",
       "      <th>3</th>\n",
       "      <td>0</td>\n",
       "      <td>491</td>\n",
       "    </tr>\n",
       "  </tbody>\n",
       "</table>\n",
       "</div>"
      ],
      "text/plain": [
       "       pred      \n",
       "       mean count\n",
       "Pclass           \n",
       "1         1   216\n",
       "2         0   184\n",
       "3         0   491"
      ]
     },
     "execution_count": 15,
     "metadata": {},
     "output_type": "execute_result"
    }
   ],
   "source": [
    "# 学習結果(生存フラグ)の確認\n",
    "fitting_df = pd.concat([X_single_train, pd.DataFrame({'pred': y_pred})], axis=1)\n",
    "fitting_df.groupby(features).agg({'pred': ['mean', 'count']})"
   ]
  },
  {
   "cell_type": "code",
   "execution_count": 16,
   "metadata": {},
   "outputs": [],
   "source": [
    "# 予測結果を出力する\n",
    "y_pred = model.predict(X_single_test)\n",
    "y_pred = pd.DataFrame({'PassengerId': titanic_test['PassengerId'], 'Survived': y_pred})\n",
    "y_pred.to_csv('./result/11-01_pclass.csv', index=False)"
   ]
  },
  {
   "cell_type": "markdown",
   "metadata": {},
   "source": [
    "# 性別\n",
    "* 女性なら生存、男性なら死亡と予測するモデル\n",
    "* accuracy(train): 0.787\n",
    "* accuracy(test): 0.766\n",
    "  * testの方が2.1%低い"
   ]
  },
  {
   "cell_type": "code",
   "execution_count": 17,
   "metadata": {},
   "outputs": [
    {
     "data": {
      "text/plain": [
       "LogisticRegression(C=1.0, class_weight=None, dual=False, fit_intercept=True,\n",
       "                   intercept_scaling=1, l1_ratio=None, max_iter=100,\n",
       "                   multi_class='warn', n_jobs=None, penalty='none',\n",
       "                   random_state=None, solver='lbfgs', tol=0.0001, verbose=0,\n",
       "                   warm_start=False)"
      ]
     },
     "execution_count": 17,
     "metadata": {},
     "output_type": "execute_result"
    }
   ],
   "source": [
    "# ロジスティック回帰モデル\n",
    "features = ['Sex_female']\n",
    "\n",
    "X_single_train = X_train[features]\n",
    "X_single_test = X_test[features]\n",
    "\n",
    "model = LogisticRegression(solver='lbfgs', penalty='none')\n",
    "model.fit(X_single_train, y_train)"
   ]
  },
  {
   "cell_type": "code",
   "execution_count": 18,
   "metadata": {},
   "outputs": [
    {
     "name": "stdout",
     "output_type": "stream",
     "text": [
      "* accuracy(train): 0.787\n"
     ]
    }
   ],
   "source": [
    "# 精度（学習データ全体）\n",
    "y_pred = model.predict(X_single_train)\n",
    "accuracy = accuracy_score(y_train, y_pred)\n",
    "\n",
    "print('* accuracy(train): {:.3f}'.format(accuracy))"
   ]
  },
  {
   "cell_type": "code",
   "execution_count": 19,
   "metadata": {},
   "outputs": [
    {
     "data": {
      "image/png": "[encoded data removed]",
      "text/plain": [
       "<Figure size 432x288 with 2 Axes>"
      ]
     },
     "metadata": {
      "needs_background": "light"
     },
     "output_type": "display_data"
    }
   ],
   "source": [
    "# 学習結果(予測確率)の確認\n",
    "plot_single_regression_result(model, features[0], X_single_train, X_train, y_train)"
   ]
  },
  {
   "cell_type": "code",
   "execution_count": 20,
   "metadata": {},
   "outputs": [
    {
     "data": {
      "text/html": [
       "<div>\n",
       "<style scoped>\n",
       "    .dataframe tbody tr th:only-of-type {\n",
       "        vertical-align: middle;\n",
       "    }\n",
       "\n",
       "    .dataframe tbody tr th {\n",
       "        vertical-align: top;\n",
       "    }\n",
       "\n",
       "    .dataframe thead tr th {\n",
       "        text-align: left;\n",
       "    }\n",
       "\n",
       "    .dataframe thead tr:last-of-type th {\n",
       "        text-align: right;\n",
       "    }\n",
       "</style>\n",
       "<table border=\"1\" class=\"dataframe\">\n",
       "  <thead>\n",
       "    <tr>\n",
       "      <th></th>\n",
       "      <th colspan=\"2\" halign=\"left\">pred</th>\n",
       "    </tr>\n",
       "    <tr>\n",
       "      <th></th>\n",
       "      <th>mean</th>\n",
       "      <th>count</th>\n",
       "    </tr>\n",
       "    <tr>\n",
       "      <th>Sex_female</th>\n",
       "      <th></th>\n",
       "      <th></th>\n",
       "    </tr>\n",
       "  </thead>\n",
       "  <tbody>\n",
       "    <tr>\n",
       "      <th>0</th>\n",
       "      <td>0</td>\n",
       "      <td>577</td>\n",
       "    </tr>\n",
       "    <tr>\n",
       "      <th>1</th>\n",
       "      <td>1</td>\n",
       "      <td>314</td>\n",
       "    </tr>\n",
       "  </tbody>\n",
       "</table>\n",
       "</div>"
      ],
      "text/plain": [
       "           pred      \n",
       "           mean count\n",
       "Sex_female           \n",
       "0             0   577\n",
       "1             1   314"
      ]
     },
     "execution_count": 20,
     "metadata": {},
     "output_type": "execute_result"
    }
   ],
   "source": [
    "# 学習結果(生存フラグ)の確認\n",
    "fitting_df = pd.concat([X_single_train, pd.DataFrame({'pred': y_pred})], axis=1)\n",
    "fitting_df.groupby(features).agg({'pred': ['mean', 'count']})"
   ]
  },
  {
   "cell_type": "code",
   "execution_count": 21,
   "metadata": {},
   "outputs": [],
   "source": [
    "# 予測結果を出力する\n",
    "y_pred = model.predict(X_single_test)\n",
    "y_pred = pd.DataFrame({'PassengerId': titanic_test['PassengerId'], 'Survived': y_pred})\n",
    "y_pred.to_csv('./result/11-02_sex.csv', index=False)"
   ]
  },
  {
   "cell_type": "markdown",
   "metadata": {},
   "source": [
    "# 年齢\n",
    "* 5才以下と2ndクラス以上の05〜15才を生存、それ以外を死亡と予測するモデル\n",
    "* accuracy(train): 0.646\n",
    "* accuracy(test): 0.627\n",
    "  * testの方が1.9%低い"
   ]
  },
  {
   "cell_type": "code",
   "execution_count": 22,
   "metadata": {},
   "outputs": [
    {
     "data": {
      "text/plain": [
       "LogisticRegression(C=1.0, class_weight=None, dual=False, fit_intercept=True,\n",
       "                   intercept_scaling=1, l1_ratio=None, max_iter=100,\n",
       "                   multi_class='warn', n_jobs=None, penalty='none',\n",
       "                   random_state=None, solver='lbfgs', tol=0.0001, verbose=0,\n",
       "                   warm_start=False)"
      ]
     },
     "execution_count": 22,
     "metadata": {},
     "output_type": "execute_result"
    }
   ],
   "source": [
    "# ロジスティック回帰モデル\n",
    "features = []\n",
    "\n",
    "for col in X_train.columns:\n",
    "    if 'AgeCtgr_' in col:\n",
    "        features.append(col)\n",
    "\n",
    "X_single_train = X_train[features]\n",
    "X_single_test = X_test[features]\n",
    "\n",
    "model = LogisticRegression(solver='lbfgs', penalty='none')\n",
    "model.fit(X_single_train, y_train)"
   ]
  },
  {
   "cell_type": "code",
   "execution_count": 23,
   "metadata": {},
   "outputs": [
    {
     "name": "stdout",
     "output_type": "stream",
     "text": [
      "* accuracy(train): 0.646\n"
     ]
    }
   ],
   "source": [
    "# 精度（学習データ全体）\n",
    "y_pred = model.predict(X_single_train)\n",
    "accuracy = accuracy_score(y_train, y_pred)\n",
    "\n",
    "print('* accuracy(train): {:.3f}'.format(accuracy))"
   ]
  },
  {
   "cell_type": "code",
   "execution_count": 24,
   "metadata": {},
   "outputs": [
    {
     "data": {
      "image/png": "[encoded data removed]",
      "text/plain": [
       "<Figure size 432x288 with 1 Axes>"
      ]
     },
     "metadata": {
      "needs_background": "light"
     },
     "output_type": "display_data"
    }
   ],
   "source": [
    "# モデル係数を確認\n",
    "plot_model_coefficient(model, X_single_train.columns)"
   ]
  },
  {
   "cell_type": "code",
   "execution_count": 25,
   "metadata": {},
   "outputs": [
    {
     "data": {
      "image/png": "[encoded data removed]",
      "text/plain": [
       "<Figure size 432x288 with 2 Axes>"
      ]
     },
     "metadata": {
      "needs_background": "light"
     },
     "output_type": "display_data"
    }
   ],
   "source": [
    "# 学習結果(予測確率)の確認\n",
    "plot_single_regression_result(model, 'AgeCtgr', X_single_train, titanic_all[train_flg], y_train)"
   ]
  },
  {
   "cell_type": "code",
   "execution_count": 26,
   "metadata": {},
   "outputs": [
    {
     "data": {
      "text/html": [
       "<div>\n",
       "<style scoped>\n",
       "    .dataframe tbody tr th:only-of-type {\n",
       "        vertical-align: middle;\n",
       "    }\n",
       "\n",
       "    .dataframe tbody tr th {\n",
       "        vertical-align: top;\n",
       "    }\n",
       "\n",
       "    .dataframe thead tr th {\n",
       "        text-align: left;\n",
       "    }\n",
       "\n",
       "    .dataframe thead tr:last-of-type th {\n",
       "        text-align: right;\n",
       "    }\n",
       "</style>\n",
       "<table border=\"1\" class=\"dataframe\">\n",
       "  <thead>\n",
       "    <tr>\n",
       "      <th></th>\n",
       "      <th colspan=\"2\" halign=\"left\">pred</th>\n",
       "    </tr>\n",
       "    <tr>\n",
       "      <th></th>\n",
       "      <th>mean</th>\n",
       "      <th>count</th>\n",
       "    </tr>\n",
       "    <tr>\n",
       "      <th>AgeCtgr</th>\n",
       "      <th></th>\n",
       "      <th></th>\n",
       "    </tr>\n",
       "  </thead>\n",
       "  <tbody>\n",
       "    <tr>\n",
       "      <th>00-05</th>\n",
       "      <td>1</td>\n",
       "      <td>44</td>\n",
       "    </tr>\n",
       "    <tr>\n",
       "      <th>05-10(3rd)</th>\n",
       "      <td>0</td>\n",
       "      <td>16</td>\n",
       "    </tr>\n",
       "    <tr>\n",
       "      <th>05-15(2nd+)</th>\n",
       "      <td>1</td>\n",
       "      <td>9</td>\n",
       "    </tr>\n",
       "    <tr>\n",
       "      <th>10-15(3rd)</th>\n",
       "      <td>0</td>\n",
       "      <td>13</td>\n",
       "    </tr>\n",
       "    <tr>\n",
       "      <th>15-60</th>\n",
       "      <td>0</td>\n",
       "      <td>593</td>\n",
       "    </tr>\n",
       "    <tr>\n",
       "      <th>60+</th>\n",
       "      <td>0</td>\n",
       "      <td>21</td>\n",
       "    </tr>\n",
       "    <tr>\n",
       "      <th>estimated</th>\n",
       "      <td>0</td>\n",
       "      <td>18</td>\n",
       "    </tr>\n",
       "    <tr>\n",
       "      <th>nan</th>\n",
       "      <td>0</td>\n",
       "      <td>177</td>\n",
       "    </tr>\n",
       "  </tbody>\n",
       "</table>\n",
       "</div>"
      ],
      "text/plain": [
       "            pred      \n",
       "            mean count\n",
       "AgeCtgr               \n",
       "00-05          1    44\n",
       "05-10(3rd)     0    16\n",
       "05-15(2nd+)    1     9\n",
       "10-15(3rd)     0    13\n",
       "15-60          0   593\n",
       "60+            0    21\n",
       "estimated      0    18\n",
       "nan            0   177"
      ]
     },
     "execution_count": 26,
     "metadata": {},
     "output_type": "execute_result"
    }
   ],
   "source": [
    "# 学習結果(生存フラグ)の確認\n",
    "fitting_df = pd.concat([titanic_all[train_flg]['AgeCtgr'], pd.DataFrame({'pred': y_pred})], axis=1)\n",
    "fitting_df.groupby('AgeCtgr').agg({'pred': ['mean', 'count']})"
   ]
  },
  {
   "cell_type": "code",
   "execution_count": 27,
   "metadata": {},
   "outputs": [],
   "source": [
    "# 予測結果を出力する\n",
    "y_pred = model.predict(X_single_test)\n",
    "y_pred = pd.DataFrame({'PassengerId': titanic_test['PassengerId'], 'Survived': y_pred})\n",
    "y_pred.to_csv('./result/11-03_age.csv', index=False)"
   ]
  },
  {
   "cell_type": "markdown",
   "metadata": {},
   "source": [
    "# 一緒に乗船した兄弟、配偶者の数(SibSp)\n",
    "* SibSp=1のみ生存と予測するモデル\n",
    "* accuracy(train): 0.633\n",
    "* accuracy(test): 0.617\n",
    "  * testの方が1.6%低い"
   ]
  },
  {
   "cell_type": "code",
   "execution_count": 28,
   "metadata": {},
   "outputs": [
    {
     "data": {
      "text/plain": [
       "LogisticRegression(C=1.0, class_weight=None, dual=False, fit_intercept=True,\n",
       "                   intercept_scaling=1, l1_ratio=None, max_iter=100,\n",
       "                   multi_class='warn', n_jobs=None, penalty='none',\n",
       "                   random_state=None, solver='lbfgs', tol=0.0001, verbose=0,\n",
       "                   warm_start=False)"
      ]
     },
     "execution_count": 28,
     "metadata": {},
     "output_type": "execute_result"
    }
   ],
   "source": [
    "# ロジスティック回帰モデル\n",
    "features = ['SibSp_rounded', 'SibSp=0']\n",
    "\n",
    "X_single_train = X_train[features]\n",
    "X_single_test = X_test[features]\n",
    "\n",
    "model = LogisticRegression(solver='lbfgs', penalty='none')\n",
    "model.fit(X_single_train, y_train)"
   ]
  },
  {
   "cell_type": "code",
   "execution_count": 29,
   "metadata": {},
   "outputs": [
    {
     "name": "stdout",
     "output_type": "stream",
     "text": [
      "* accuracy(train): 0.633\n"
     ]
    }
   ],
   "source": [
    "# 精度（学習データ全体）\n",
    "y_pred = model.predict(X_single_train)\n",
    "accuracy = accuracy_score(y_train, y_pred)\n",
    "\n",
    "print('* accuracy(train): {:.3f}'.format(accuracy))"
   ]
  },
  {
   "cell_type": "code",
   "execution_count": 30,
   "metadata": {},
   "outputs": [
    {
     "data": {
      "image/png": "[encoded data removed]",
      "text/plain": [
       "<Figure size 432x288 with 1 Axes>"
      ]
     },
     "metadata": {
      "needs_background": "light"
     },
     "output_type": "display_data"
    }
   ],
   "source": [
    "# モデル係数を確認\n",
    "plot_model_coefficient(model, X_single_train.columns)"
   ]
  },
  {
   "cell_type": "code",
   "execution_count": 31,
   "metadata": {},
   "outputs": [
    {
     "data": {
      "image/png": "[encoded data removed]",
      "text/plain": [
       "<Figure size 432x288 with 2 Axes>"
      ]
     },
     "metadata": {
      "needs_background": "light"
     },
     "output_type": "display_data"
    }
   ],
   "source": [
    "# 学習結果(予測確率)の確認\n",
    "plot_single_regression_result(model, features[0], X_single_train, X_train, y_train)"
   ]
  },
  {
   "cell_type": "code",
   "execution_count": 32,
   "metadata": {},
   "outputs": [
    {
     "data": {
      "text/html": [
       "<div>\n",
       "<style scoped>\n",
       "    .dataframe tbody tr th:only-of-type {\n",
       "        vertical-align: middle;\n",
       "    }\n",
       "\n",
       "    .dataframe tbody tr th {\n",
       "        vertical-align: top;\n",
       "    }\n",
       "\n",
       "    .dataframe thead tr th {\n",
       "        text-align: left;\n",
       "    }\n",
       "\n",
       "    .dataframe thead tr:last-of-type th {\n",
       "        text-align: right;\n",
       "    }\n",
       "</style>\n",
       "<table border=\"1\" class=\"dataframe\">\n",
       "  <thead>\n",
       "    <tr>\n",
       "      <th></th>\n",
       "      <th></th>\n",
       "      <th colspan=\"2\" halign=\"left\">pred</th>\n",
       "    </tr>\n",
       "    <tr>\n",
       "      <th></th>\n",
       "      <th></th>\n",
       "      <th>mean</th>\n",
       "      <th>count</th>\n",
       "    </tr>\n",
       "    <tr>\n",
       "      <th>SibSp_rounded</th>\n",
       "      <th>SibSp=0</th>\n",
       "      <th></th>\n",
       "      <th></th>\n",
       "    </tr>\n",
       "  </thead>\n",
       "  <tbody>\n",
       "    <tr>\n",
       "      <th>0</th>\n",
       "      <th>1</th>\n",
       "      <td>0</td>\n",
       "      <td>608</td>\n",
       "    </tr>\n",
       "    <tr>\n",
       "      <th>1</th>\n",
       "      <th>0</th>\n",
       "      <td>1</td>\n",
       "      <td>209</td>\n",
       "    </tr>\n",
       "    <tr>\n",
       "      <th>2</th>\n",
       "      <th>0</th>\n",
       "      <td>0</td>\n",
       "      <td>28</td>\n",
       "    </tr>\n",
       "    <tr>\n",
       "      <th>3</th>\n",
       "      <th>0</th>\n",
       "      <td>0</td>\n",
       "      <td>16</td>\n",
       "    </tr>\n",
       "    <tr>\n",
       "      <th>4</th>\n",
       "      <th>0</th>\n",
       "      <td>0</td>\n",
       "      <td>30</td>\n",
       "    </tr>\n",
       "  </tbody>\n",
       "</table>\n",
       "</div>"
      ],
      "text/plain": [
       "                      pred      \n",
       "                      mean count\n",
       "SibSp_rounded SibSp=0           \n",
       "0             1          0   608\n",
       "1             0          1   209\n",
       "2             0          0    28\n",
       "3             0          0    16\n",
       "4             0          0    30"
      ]
     },
     "execution_count": 32,
     "metadata": {},
     "output_type": "execute_result"
    }
   ],
   "source": [
    "# 学習結果(生存フラグ)の確認\n",
    "fitting_df = pd.concat([X_single_train, pd.DataFrame({'pred': y_pred})], axis=1)\n",
    "fitting_df.groupby(features).agg({'pred': ['mean', 'count']})"
   ]
  },
  {
   "cell_type": "code",
   "execution_count": 33,
   "metadata": {},
   "outputs": [],
   "source": [
    "# 予測結果を出力する\n",
    "y_pred = model.predict(X_single_test)\n",
    "y_pred = pd.DataFrame({'PassengerId': titanic_test['PassengerId'], 'Survived': y_pred})\n",
    "y_pred.to_csv('./result/11-04_SibSp.csv', index=False)"
   ]
  },
  {
   "cell_type": "markdown",
   "metadata": {},
   "source": [
    "# 一緒に乗船した親子の数(Parch)\n",
    "* Parch=1のみ生存と予測するモデル\n",
    "* accuracy(train): 0.630\n",
    "* accuracy(test): 0.675\n",
    "  * testの方が4.5%高い"
   ]
  },
  {
   "cell_type": "code",
   "execution_count": 34,
   "metadata": {},
   "outputs": [
    {
     "data": {
      "text/plain": [
       "LogisticRegression(C=1.0, class_weight=None, dual=False, fit_intercept=True,\n",
       "                   intercept_scaling=1, l1_ratio=None, max_iter=100,\n",
       "                   multi_class='warn', n_jobs=None, penalty='none',\n",
       "                   random_state=None, solver='lbfgs', tol=0.0001, verbose=0,\n",
       "                   warm_start=False)"
      ]
     },
     "execution_count": 34,
     "metadata": {},
     "output_type": "execute_result"
    }
   ],
   "source": [
    "# ロジスティック回帰モデル\n",
    "features = ['Parch_rounded', 'Parch=0']\n",
    "\n",
    "X_single_train = X_train[features]\n",
    "X_single_test = X_test[features]\n",
    "\n",
    "model = LogisticRegression(solver='lbfgs', penalty='none')\n",
    "model.fit(X_single_train, y_train)"
   ]
  },
  {
   "cell_type": "code",
   "execution_count": 35,
   "metadata": {},
   "outputs": [
    {
     "name": "stdout",
     "output_type": "stream",
     "text": [
      "* accuracy(train): 0.630\n"
     ]
    }
   ],
   "source": [
    "# 精度（学習データ全体）\n",
    "y_pred = model.predict(X_single_train)\n",
    "accuracy = accuracy_score(y_train, y_pred)\n",
    "\n",
    "print('* accuracy(train): {:.3f}'.format(accuracy))"
   ]
  },
  {
   "cell_type": "code",
   "execution_count": 36,
   "metadata": {},
   "outputs": [
    {
     "data": {
      "image/png": "[encoded data removed]",
      "text/plain": [
       "<Figure size 432x288 with 1 Axes>"
      ]
     },
     "metadata": {
      "needs_background": "light"
     },
     "output_type": "display_data"
    }
   ],
   "source": [
    "# モデル係数を確認\n",
    "plot_model_coefficient(model, X_single_train.columns)"
   ]
  },
  {
   "cell_type": "code",
   "execution_count": 37,
   "metadata": {},
   "outputs": [
    {
     "data": {
      "image/png": "[encoded data removed]",
      "text/plain": [
       "<Figure size 432x288 with 2 Axes>"
      ]
     },
     "metadata": {
      "needs_background": "light"
     },
     "output_type": "display_data"
    }
   ],
   "source": [
    "# 学習結果(予測確率)の確認\n",
    "plot_single_regression_result(model, features[0], X_single_train, X_train, y_train)"
   ]
  },
  {
   "cell_type": "code",
   "execution_count": 38,
   "metadata": {},
   "outputs": [
    {
     "data": {
      "text/html": [
       "<div>\n",
       "<style scoped>\n",
       "    .dataframe tbody tr th:only-of-type {\n",
       "        vertical-align: middle;\n",
       "    }\n",
       "\n",
       "    .dataframe tbody tr th {\n",
       "        vertical-align: top;\n",
       "    }\n",
       "\n",
       "    .dataframe thead tr th {\n",
       "        text-align: left;\n",
       "    }\n",
       "\n",
       "    .dataframe thead tr:last-of-type th {\n",
       "        text-align: right;\n",
       "    }\n",
       "</style>\n",
       "<table border=\"1\" class=\"dataframe\">\n",
       "  <thead>\n",
       "    <tr>\n",
       "      <th></th>\n",
       "      <th></th>\n",
       "      <th colspan=\"2\" halign=\"left\">pred</th>\n",
       "    </tr>\n",
       "    <tr>\n",
       "      <th></th>\n",
       "      <th></th>\n",
       "      <th>mean</th>\n",
       "      <th>count</th>\n",
       "    </tr>\n",
       "    <tr>\n",
       "      <th>Parch_rounded</th>\n",
       "      <th>Parch=0</th>\n",
       "      <th></th>\n",
       "      <th></th>\n",
       "    </tr>\n",
       "  </thead>\n",
       "  <tbody>\n",
       "    <tr>\n",
       "      <th>0</th>\n",
       "      <th>1</th>\n",
       "      <td>0</td>\n",
       "      <td>678</td>\n",
       "    </tr>\n",
       "    <tr>\n",
       "      <th>1</th>\n",
       "      <th>0</th>\n",
       "      <td>1</td>\n",
       "      <td>118</td>\n",
       "    </tr>\n",
       "    <tr>\n",
       "      <th>2</th>\n",
       "      <th>0</th>\n",
       "      <td>0</td>\n",
       "      <td>80</td>\n",
       "    </tr>\n",
       "    <tr>\n",
       "      <th>3</th>\n",
       "      <th>0</th>\n",
       "      <td>0</td>\n",
       "      <td>15</td>\n",
       "    </tr>\n",
       "  </tbody>\n",
       "</table>\n",
       "</div>"
      ],
      "text/plain": [
       "                      pred      \n",
       "                      mean count\n",
       "Parch_rounded Parch=0           \n",
       "0             1          0   678\n",
       "1             0          1   118\n",
       "2             0          0    80\n",
       "3             0          0    15"
      ]
     },
     "execution_count": 38,
     "metadata": {},
     "output_type": "execute_result"
    }
   ],
   "source": [
    "# 学習結果(生存フラグ)の確認\n",
    "fitting_df = pd.concat([X_single_train, pd.DataFrame({'pred': y_pred})], axis=1)\n",
    "fitting_df.groupby(features).agg({'pred': ['mean', 'count']})"
   ]
  },
  {
   "cell_type": "code",
   "execution_count": 39,
   "metadata": {},
   "outputs": [],
   "source": [
    "# 予測結果を出力する\n",
    "y_pred = model.predict(X_single_test)\n",
    "y_pred = pd.DataFrame({'PassengerId': titanic_test['PassengerId'], 'Survived': y_pred})\n",
    "y_pred.to_csv('./result/11-05_Parch.csv', index=False)"
   ]
  },
  {
   "cell_type": "markdown",
   "metadata": {},
   "source": [
    "# 運賃(Fare)\n",
    "* 46.9以上を生存と予測するモデル\n",
    "* accuracy(train): 0.673\n",
    "* accuracy(test): 0.646\n",
    "  * testの方が2.7%低い"
   ]
  },
  {
   "cell_type": "code",
   "execution_count": 40,
   "metadata": {},
   "outputs": [
    {
     "data": {
      "text/plain": [
       "LogisticRegression(C=1.0, class_weight=None, dual=False, fit_intercept=True,\n",
       "                   intercept_scaling=1, l1_ratio=None, max_iter=100,\n",
       "                   multi_class='warn', n_jobs=None, penalty='none',\n",
       "                   random_state=None, solver='lbfgs', tol=0.0001, verbose=0,\n",
       "                   warm_start=False)"
      ]
     },
     "execution_count": 40,
     "metadata": {},
     "output_type": "execute_result"
    }
   ],
   "source": [
    "# ロジスティック回帰モデル\n",
    "features = ['Fare_rounded']\n",
    "\n",
    "X_single_train = X_train[features]\n",
    "X_single_test = X_test[features]\n",
    "\n",
    "model = LogisticRegression(solver='lbfgs', penalty='none')\n",
    "model.fit(X_single_train, y_train)"
   ]
  },
  {
   "cell_type": "code",
   "execution_count": 41,
   "metadata": {
    "scrolled": true
   },
   "outputs": [
    {
     "name": "stdout",
     "output_type": "stream",
     "text": [
      "* accuracy(train): 0.673\n"
     ]
    }
   ],
   "source": [
    "# 精度（学習データ全体）\n",
    "y_pred = model.predict(X_single_train)\n",
    "accuracy = accuracy_score(y_train, y_pred)\n",
    "\n",
    "print('* accuracy(train): {:.3f}'.format(accuracy))"
   ]
  },
  {
   "cell_type": "code",
   "execution_count": 42,
   "metadata": {},
   "outputs": [
    {
     "data": {
      "image/png": "[encoded data removed]",
      "text/plain": [
       "<Figure size 432x288 with 1 Axes>"
      ]
     },
     "metadata": {
      "needs_background": "light"
     },
     "output_type": "display_data"
    }
   ],
   "source": [
    "# モデル係数を確認\n",
    "plot_model_coefficient(model, X_single_train.columns)"
   ]
  },
  {
   "cell_type": "code",
   "execution_count": 43,
   "metadata": {},
   "outputs": [
    {
     "data": {
      "image/png": "[encoded data removed]",
      "text/plain": [
       "<Figure size 432x288 with 2 Axes>"
      ]
     },
     "metadata": {
      "needs_background": "light"
     },
     "output_type": "display_data"
    }
   ],
   "source": [
    "# 学習結果(予測確率)の確認\n",
    "plot_single_regression_result(model, features[0], X_single_train, X_train, y_train)"
   ]
  },
  {
   "cell_type": "code",
   "execution_count": 44,
   "metadata": {},
   "outputs": [
    {
     "data": {
      "text/html": [
       "<div>\n",
       "<style scoped>\n",
       "    .dataframe tbody tr th:only-of-type {\n",
       "        vertical-align: middle;\n",
       "    }\n",
       "\n",
       "    .dataframe tbody tr th {\n",
       "        vertical-align: top;\n",
       "    }\n",
       "\n",
       "    .dataframe thead tr th {\n",
       "        text-align: left;\n",
       "    }\n",
       "\n",
       "    .dataframe thead tr:last-of-type th {\n",
       "        text-align: right;\n",
       "    }\n",
       "</style>\n",
       "<table border=\"1\" class=\"dataframe\">\n",
       "  <thead>\n",
       "    <tr>\n",
       "      <th></th>\n",
       "      <th colspan=\"2\" halign=\"left\">pred</th>\n",
       "    </tr>\n",
       "    <tr>\n",
       "      <th></th>\n",
       "      <th>mean</th>\n",
       "      <th>count</th>\n",
       "    </tr>\n",
       "    <tr>\n",
       "      <th>Fare_rounded</th>\n",
       "      <th></th>\n",
       "      <th></th>\n",
       "    </tr>\n",
       "  </thead>\n",
       "  <tbody>\n",
       "    <tr>\n",
       "      <th>00_0-8</th>\n",
       "      <td>0.00000</td>\n",
       "      <td>92</td>\n",
       "    </tr>\n",
       "    <tr>\n",
       "      <th>01_8-8</th>\n",
       "      <td>0.00000</td>\n",
       "      <td>87</td>\n",
       "    </tr>\n",
       "    <tr>\n",
       "      <th>02_8-8</th>\n",
       "      <td>0.00000</td>\n",
       "      <td>106</td>\n",
       "    </tr>\n",
       "    <tr>\n",
       "      <th>03_8-10</th>\n",
       "      <td>0.00000</td>\n",
       "      <td>78</td>\n",
       "    </tr>\n",
       "    <tr>\n",
       "      <th>04_10-14</th>\n",
       "      <td>0.00000</td>\n",
       "      <td>84</td>\n",
       "    </tr>\n",
       "    <tr>\n",
       "      <th>05_14-22</th>\n",
       "      <td>0.00000</td>\n",
       "      <td>88</td>\n",
       "    </tr>\n",
       "    <tr>\n",
       "      <th>06_22-27</th>\n",
       "      <td>0.00000</td>\n",
       "      <td>89</td>\n",
       "    </tr>\n",
       "    <tr>\n",
       "      <th>07_27-40</th>\n",
       "      <td>0.00000</td>\n",
       "      <td>91</td>\n",
       "    </tr>\n",
       "    <tr>\n",
       "      <th>08_40-78</th>\n",
       "      <td>0.94382</td>\n",
       "      <td>89</td>\n",
       "    </tr>\n",
       "    <tr>\n",
       "      <th>09_78-80</th>\n",
       "      <td>1.00000</td>\n",
       "      <td>87</td>\n",
       "    </tr>\n",
       "  </tbody>\n",
       "</table>\n",
       "</div>"
      ],
      "text/plain": [
       "                 pred      \n",
       "                 mean count\n",
       "Fare_rounded               \n",
       "00_0-8        0.00000    92\n",
       "01_8-8        0.00000    87\n",
       "02_8-8        0.00000   106\n",
       "03_8-10       0.00000    78\n",
       "04_10-14      0.00000    84\n",
       "05_14-22      0.00000    88\n",
       "06_22-27      0.00000    89\n",
       "07_27-40      0.00000    91\n",
       "08_40-78      0.94382    89\n",
       "09_78-80      1.00000    87"
      ]
     },
     "execution_count": 44,
     "metadata": {},
     "output_type": "execute_result"
    }
   ],
   "source": [
    "# 学習結果(生存フラグ)の確認\n",
    "fare_bin = get_binned_data(X_single_train['Fare_rounded'])\n",
    "fitting_df = pd.DataFrame({'Fare_rounded': fare_bin,'pred': y_pred})\n",
    "fitting_df.groupby(features).agg({'pred': ['mean', 'count']})"
   ]
  },
  {
   "cell_type": "code",
   "execution_count": 45,
   "metadata": {},
   "outputs": [],
   "source": [
    "# 予測結果を出力する\n",
    "y_pred = model.predict(X_single_test)\n",
    "y_pred = pd.DataFrame({'PassengerId': titanic_test['PassengerId'], 'Survived': y_pred})\n",
    "y_pred.to_csv('./result/11-06_Fare.csv', index=False)"
   ]
  },
  {
   "cell_type": "markdown",
   "metadata": {},
   "source": [
    "# 乗船港(Embarked)\n",
    "* Embarked=Cのみ生存と予測するモデル\n",
    "* accuracy(train): 0.636\n",
    "* accuracy(test): 0.636"
   ]
  },
  {
   "cell_type": "code",
   "execution_count": 46,
   "metadata": {},
   "outputs": [
    {
     "data": {
      "text/plain": [
       "LogisticRegression(C=1.0, class_weight=None, dual=False, fit_intercept=True,\n",
       "                   intercept_scaling=1, l1_ratio=None, max_iter=100,\n",
       "                   multi_class='warn', n_jobs=None, penalty='none',\n",
       "                   random_state=None, solver='lbfgs', tol=0.0001, verbose=0,\n",
       "                   warm_start=False)"
      ]
     },
     "execution_count": 46,
     "metadata": {},
     "output_type": "execute_result"
    }
   ],
   "source": [
    "# ロジスティック回帰モデル\n",
    "features = []\n",
    "\n",
    "for col in X_train.columns:\n",
    "    if 'Embarked_' in col:\n",
    "        features.append(col)\n",
    "\n",
    "X_single_train = X_train[features]\n",
    "X_single_test = X_test[features]\n",
    "\n",
    "model = LogisticRegression(solver='lbfgs', penalty='none')\n",
    "model.fit(X_single_train, y_train)"
   ]
  },
  {
   "cell_type": "code",
   "execution_count": 47,
   "metadata": {},
   "outputs": [
    {
     "name": "stdout",
     "output_type": "stream",
     "text": [
      "* accuracy(train): 0.636\n"
     ]
    }
   ],
   "source": [
    "# 精度（学習データ全体）\n",
    "y_pred = model.predict(X_single_train)\n",
    "accuracy = accuracy_score(y_train, y_pred)\n",
    "\n",
    "print('* accuracy(train): {:.3f}'.format(accuracy))"
   ]
  },
  {
   "cell_type": "code",
   "execution_count": 48,
   "metadata": {},
   "outputs": [
    {
     "data": {
      "image/png": "[encoded data removed]",
      "text/plain": [
       "<Figure size 432x288 with 1 Axes>"
      ]
     },
     "metadata": {
      "needs_background": "light"
     },
     "output_type": "display_data"
    }
   ],
   "source": [
    "# モデル係数を確認\n",
    "plot_model_coefficient(model, X_single_train.columns)"
   ]
  },
  {
   "cell_type": "code",
   "execution_count": 49,
   "metadata": {},
   "outputs": [
    {
     "data": {
      "image/png": "[encoded data removed]",
      "text/plain": [
       "<Figure size 432x288 with 2 Axes>"
      ]
     },
     "metadata": {
      "needs_background": "light"
     },
     "output_type": "display_data"
    }
   ],
   "source": [
    "# 学習結果(予測確率)の確認\n",
    "plot_single_regression_result(model, features[0], X_single_train, X_train, y_train)"
   ]
  },
  {
   "cell_type": "code",
   "execution_count": 50,
   "metadata": {},
   "outputs": [
    {
     "data": {
      "text/html": [
       "<div>\n",
       "<style scoped>\n",
       "    .dataframe tbody tr th:only-of-type {\n",
       "        vertical-align: middle;\n",
       "    }\n",
       "\n",
       "    .dataframe tbody tr th {\n",
       "        vertical-align: top;\n",
       "    }\n",
       "\n",
       "    .dataframe thead tr th {\n",
       "        text-align: left;\n",
       "    }\n",
       "\n",
       "    .dataframe thead tr:last-of-type th {\n",
       "        text-align: right;\n",
       "    }\n",
       "</style>\n",
       "<table border=\"1\" class=\"dataframe\">\n",
       "  <thead>\n",
       "    <tr>\n",
       "      <th></th>\n",
       "      <th></th>\n",
       "      <th colspan=\"2\" halign=\"left\">pred</th>\n",
       "    </tr>\n",
       "    <tr>\n",
       "      <th></th>\n",
       "      <th></th>\n",
       "      <th>mean</th>\n",
       "      <th>count</th>\n",
       "    </tr>\n",
       "    <tr>\n",
       "      <th>Embarked_C</th>\n",
       "      <th>Embarked_Q</th>\n",
       "      <th></th>\n",
       "      <th></th>\n",
       "    </tr>\n",
       "  </thead>\n",
       "  <tbody>\n",
       "    <tr>\n",
       "      <th rowspan=\"2\" valign=\"top\">0</th>\n",
       "      <th>0</th>\n",
       "      <td>0</td>\n",
       "      <td>646</td>\n",
       "    </tr>\n",
       "    <tr>\n",
       "      <th>1</th>\n",
       "      <td>0</td>\n",
       "      <td>77</td>\n",
       "    </tr>\n",
       "    <tr>\n",
       "      <th>1</th>\n",
       "      <th>0</th>\n",
       "      <td>1</td>\n",
       "      <td>168</td>\n",
       "    </tr>\n",
       "  </tbody>\n",
       "</table>\n",
       "</div>"
      ],
      "text/plain": [
       "                      pred      \n",
       "                      mean count\n",
       "Embarked_C Embarked_Q           \n",
       "0          0             0   646\n",
       "           1             0    77\n",
       "1          0             1   168"
      ]
     },
     "execution_count": 50,
     "metadata": {},
     "output_type": "execute_result"
    }
   ],
   "source": [
    "# 学習結果(生存フラグ)の確認\n",
    "fitting_df = pd.concat([X_single_train, pd.DataFrame({'pred': y_pred})], axis=1)\n",
    "fitting_df.groupby(features).agg({'pred': ['mean', 'count']})"
   ]
  },
  {
   "cell_type": "code",
   "execution_count": 51,
   "metadata": {},
   "outputs": [],
   "source": [
    "# 予測結果を出力する\n",
    "y_pred = model.predict(X_single_test)\n",
    "y_pred = pd.DataFrame({'PassengerId': titanic_test['PassengerId'], 'Survived': y_pred})\n",
    "y_pred.to_csv('./result/11-07_Embarked.csv', index=False)"
   ]
  },
  {
   "cell_type": "markdown",
   "metadata": {},
   "source": [
    "# まとめ"
   ]
  },
  {
   "cell_type": "code",
   "execution_count": 52,
   "metadata": {},
   "outputs": [
    {
     "data": {
      "text/plain": [
       "[<matplotlib.lines.Line2D at 0x1a1e2ee410>]"
      ]
     },
     "execution_count": 52,
     "metadata": {},
     "output_type": "execute_result"
    },
    {
     "data": {
      "image/png": "[encoded data removed]",
      "text/plain": [
       "<Figure size 360x360 with 1 Axes>"
      ]
     },
     "metadata": {
      "needs_background": "light"
     },
     "output_type": "display_data"
    }
   ],
   "source": [
    "train_test_result = {}\n",
    "\n",
    "train_test_result['Pclass'] = (0.679, 0.6555)\n",
    "train_test_result['Sex'] = (0.787, 0.76555)\n",
    "train_test_result['Age'] = (0.646, 0.62679)\n",
    "train_test_result['SibSp'] = (0.633, 0.61722)\n",
    "train_test_result['Parch'] = (0.630, 0.67464)\n",
    "train_test_result['Fare'] = (0.673, 0.64593)\n",
    "train_test_result['Embarked'] = (0.636, 0.636)\n",
    "\n",
    "plt.figure(figsize=(5, 5))\n",
    "\n",
    "for label, acc in train_test_result.items():\n",
    "    plt.plot(acc[0], acc[1], marker='o')\n",
    "    plt.annotate(label, xy=acc)\n",
    "\n",
    "plt.xlim([0.61, 0.80])\n",
    "plt.ylim([0.61, 0.80])\n",
    "\n",
    "plt.xlabel('train accuracy')\n",
    "plt.ylabel('test accuracy')\n",
    "\n",
    "x = np.linspace(0.61, 0.80, 3)\n",
    "y = x\n",
    "\n",
    "plt.plot(x, y, linestyle='dashed')"
   ]
  }
 ],
 "metadata": {
  "kernelspec": {
   "display_name": "titanic",
   "language": "python",
   "name": "titanic"
  },
  "language_info": {
   "codemirror_mode": {
    "name": "ipython",
    "version": 3
   },
   "file_extension": ".py",
   "mimetype": "text/x-python",
   "name": "python",
   "nbconvert_exporter": "python",
   "pygments_lexer": "ipython3",
   "version": "3.7.5"
  }
 },
 "nbformat": 4,
 "nbformat_minor": 2
}
